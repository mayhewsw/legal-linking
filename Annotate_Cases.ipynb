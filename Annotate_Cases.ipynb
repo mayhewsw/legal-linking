{
 "cells": [
  {
   "cell_type": "markdown",
   "metadata": {},
   "source": [
    "Annotation script, designed to assist hand-annotation of constitutional paragraphs."
   ]
  },
  {
   "cell_type": "code",
   "execution_count": null,
   "metadata": {
    "collapsed": true
   },
   "outputs": [],
   "source": [
    "import json\n",
    "\n",
    "\n",
    "base_path = 'path/to/legal-linking/data'\n",
    "\n",
    "# assumes that the full case dataset has already been scraped\n",
    "data_path = 'path/to/ussc_out_full.json'\n",
    "\n",
    "# list of cases to annotate\n",
    "urls_to_code = ['https://www.law.cornell.edu/supremecourt/text/381/479',\n",
    "                'https://www.law.cornell.edu/supremecourt/text/11-393'\n",
    "                'https://www.law.cornell.edu/supremecourt/text/418/683',\n",
    "                'https://www.law.cornell.edu/supremecourt/text/384/436',\n",
    "                'https://www.law.cornell.edu/supremecourt/text/491/397']\n",
    "\n",
    "# output path\n",
    "coded_path = 'path/to/legal-linking/data/validation/hand_coded_cases.json'\n",
    "\n",
    "# constitution index path\n",
    "index_path = '/home/rbshaffer/Desktop/constitution_files/constitution.json'\n",
    "\n",
    "with open(index_path) as f:\n",
    "    index_content = json.loads(f.read())"
   ]
  },
  {
   "cell_type": "code",
   "execution_count": null,
   "metadata": {
    "collapsed": true
   },
   "outputs": [],
   "source": [
    "# print out list of possible indices (to help with coding)\n",
    "for i in index_content:\n",
    "    print(i, index_content[i]['link'])\n",
    "    if not index_content[i]['text']:\n",
    "        print('NO TEXT')"
   ]
  },
  {
   "cell_type": "code",
   "execution_count": null,
   "metadata": {},
   "outputs": [],
   "source": [
    "# annotation loop\n",
    "for url_to_code in urls_to_code:\n",
    "    \n",
    "    # find the case given by the URL\n",
    "    with open('/home/rbshaffer/Desktop/constitution_files/ussc_out_full.json') as f:\n",
    "        case_to_code = None\n",
    "\n",
    "        for case in f.readlines():\n",
    "            json_case = json.loads(case)\n",
    "\n",
    "            if not json_case:\n",
    "                continue\n",
    "\n",
    "            url = json_case[0]['meta']['source_url']\n",
    "\n",
    "            if url == url_to_code:\n",
    "                case_to_code = json_case\n",
    "                break\n",
    "                \n",
    "    if not case_to_code:\n",
    "        print('The following case was not found:', url_to_code)\n",
    "        continue\n",
    "    \n",
    "    # for each case paragraph, display the text, then prompt for links\n",
    "    for i, par in enumerate(case_to_code):\n",
    "        print(i, par['text'])\n",
    "\n",
    "        match_ids = []\n",
    "        id_val = None\n",
    "        while True:\n",
    "            id_val = input('Input match ID: ')\n",
    "\n",
    "            if not id_val:\n",
    "                more = input('Press enter if these are all the matches:' + repr(match_ids))\n",
    "                if more:\n",
    "                    continue\n",
    "                else:\n",
    "                    break\n",
    "\n",
    "            if id_val not in index_content:\n",
    "                print('Error! Match ID not found.')\n",
    "            else:\n",
    "                incorrect = input('Press enter if this is the correct match: ' + index_content[id_val]['link'])\n",
    "                if not incorrect:\n",
    "                    match_ids.append(id_val)\n",
    "\n",
    "        match_ids = list(set(match_ids))\n",
    "        case_to_code[i]['matches'] = [['', '', id_val] for id_val in match_ids]\n",
    "\n",
    "    coded.append(case_to_code)"
   ]
  },
  {
   "cell_type": "code",
   "execution_count": null,
   "metadata": {
    "collapsed": true
   },
   "outputs": [],
   "source": [
    "# split each case and write the output\n",
    "cases = {}\n",
    "\n",
    "with open(coded_path) as f:\n",
    "    for row in f.readlines():\n",
    "        par = json.loads(row)\n",
    "        if par['meta']['source_url'] not in cases:\n",
    "            cases[par['meta']['source_url']] = [par]\n",
    "        else:\n",
    "            cases[par['meta']['source_url']].append(par)"
   ]
  },
  {
   "cell_type": "code",
   "execution_count": null,
   "metadata": {
    "collapsed": true
   },
   "outputs": [],
   "source": [
    "# write the outputs of each file separately\n",
    "with open('/home/rbshaffer/Desktop/constitution_files/griswold_connecticut.json', 'w') as f:\n",
    "    for par in coded[0]:\n",
    "        f.write(json.dumps(par) + '\\n')\n",
    "        \n",
    "with open('/home/rbshaffer/Desktop/constitution_files/nfib_sebelius.json', 'w') as f:\n",
    "    for par in coded[1]:\n",
    "        f.write(json.dumps(par) + '\\n')      \n",
    "        \n",
    "with open('/home/rbshaffer/Desktop/constitution_files/us_nixon.json', 'w') as f:\n",
    "    for par in coded[2]:\n",
    "        f.write(json.dumps(par) + '\\n')\n",
    "\n",
    "with open('/home/rbshaffer/Desktop/constitution_files/miranda_arizona.json', 'w') as f:\n",
    "    for par in coded[3]:\n",
    "        f.write(json.dumps(par) + '\\n')\n",
    "        \n",
    "with open('/home/rbshaffer/Desktop/constitution_files/texas_johnson.json', 'w') as f:\n",
    "    for par in coded[4]:\n",
    "        f.write(json.dumps(par) + '\\n')"
   ]
  }
 ],
 "metadata": {
  "kernelspec": {
   "display_name": "Python 3",
   "language": "python",
   "name": "python3"
  },
  "language_info": {
   "codemirror_mode": {
    "name": "ipython",
    "version": 3
   },
   "file_extension": ".py",
   "mimetype": "text/x-python",
   "name": "python",
   "nbconvert_exporter": "python",
   "pygments_lexer": "ipython3",
   "version": "3.5.2"
  }
 },
 "nbformat": 4,
 "nbformat_minor": 2
}
